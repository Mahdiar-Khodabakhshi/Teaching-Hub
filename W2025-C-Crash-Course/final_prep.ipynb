{
 "cells": [
  {
   "cell_type": "markdown",
   "id": "63de5fba",
   "metadata": {},
   "source": [
    "### The Execution Process in C:\n",
    "* **Preprocessing:** Before the actual compilation, C code goes through a preprocessing step where directives (such as #include or #define) are handled.\n",
    "* **Compilation Phase:** The compiler translates the preprocessed code into assembly language or intermediate representations, then into machine code.\n",
    "* **Linking:** Finally, the linker combines object files and libraries into a single executable. This process resolves references between different parts of the code."
   ]
  },
  {
   "cell_type": "markdown",
   "id": "2510180e",
   "metadata": {},
   "source": [
    "### 1. Reading Input: `scanf` vs. `fgets`\n",
    "\n",
    "In C, the `%s` placeholder is used to read and print strings. Note that when using `scanf` with an array, you do not need the address operator (`&`) because the array name already points to the first element.\n",
    "\n",
    "#### A. Using `scanf` and `fgets` from Standard Input\n"
   ]
  },
  {
   "cell_type": "code",
   "execution_count": null,
   "id": "6473a308",
   "metadata": {},
   "outputs": [
    {
     "name": "stdout",
     "output_type": "stream",
     "text": [
      "Overwriting scanf_vs_fgets.c\n"
     ]
    }
   ],
   "source": [
    "%%file scanf_vs_fgets.c\n",
    "#include <stdio.h>\n",
    "\n",
    "int main() {\n",
    "    char island[100];  //# Buffer to hold input\n",
    "\n",
    "    //# Using scanf to read a string (stops at whitespace)\n",
    "    printf(\"Enter the island name (scanf reads only until whitespace): \");\n",
    "    scanf(\"%s\", island);  \n",
    "    //# island is used without '&' because it is already a pointer to the first element.\n",
    "    printf(\"Using scanf, you entered: %s\\n\", island);\n",
    "\n",
    "    //# Clear input buffer before using fgets\n",
    "    while (getchar() != '\\n'); \n",
    "\n",
    "    //# Using fgets to read a full line including spaces\n",
    "    printf(\"Enter the island name again (fgets reads entire line): \");\n",
    "    fgets(island, 100, stdin);\n",
    "    //# Note: fgets keeps the newline character if there's room\n",
    "    printf(\"Using fgets, you entered: %s\", island);\n",
    "\n",
    "    return 0;\n",
    "}"
   ]
  },
  {
   "cell_type": "markdown",
   "id": "fd805f55",
   "metadata": {},
   "source": [
    "#### B. Reading from a File `fscanf` and `fgets`"
   ]
  },
  {
   "cell_type": "code",
   "execution_count": 9,
   "id": "2c9d8d7e",
   "metadata": {},
   "outputs": [
    {
     "name": "stdout",
     "output_type": "stream",
     "text": [
      "Overwriting fscanf_vs_fgets.c\n"
     ]
    }
   ],
   "source": [
    "%%file fscanf_vs_fgets.c\n",
    "#include <stdio.h>\n",
    "\n",
    "int main() {\n",
    "    FILE *in; //# File pointer for input\n",
    "    char island[100];\n",
    "\n",
    "    //# Open a file\n",
    "    in = fopen(\"fscanf_vs_fgets_test.txt\", \"r\");\n",
    "    if (in == NULL) {\n",
    "        perror(\"Error opening file\");\n",
    "        return 1;\n",
    "    }\n",
    "\n",
    "    //# Using fscanf to read a string from the file\n",
    "    fscanf(in, \"%s\", island);\n",
    "    printf(\"Using fscanf, read from file: %s\\n\", island);\n",
    "\n",
    "    //# Reset file pointer and use fgets to read the whole line from file\n",
    "    rewind(in);\n",
    "    fgets(island, 100, in);\n",
    "    printf(\"Using fgets, read from file: %s\", island);\n",
    "\n",
    "    fclose(in);\n",
    "    return 0;\n",
    "}"
   ]
  },
  {
   "cell_type": "markdown",
   "id": "045394b4",
   "metadata": {},
   "source": [
    "### 2. Parsing Strings with `scanf` and `sscanf`\n",
    "\n",
    "#### A. Reading from Standard Input with `scanf`"
   ]
  },
  {
   "cell_type": "code",
   "execution_count": 13,
   "id": "58cd95d2",
   "metadata": {},
   "outputs": [
    {
     "name": "stdout",
     "output_type": "stream",
     "text": [
      "Overwriting parsing_strings_with_scanf.c\n"
     ]
    }
   ],
   "source": [
    "%%file parsing_strings_with_scanf.c\n",
    "#include <stdio.h>\n",
    "\n",
    "int main() {\n",
    "    char name[20];\n",
    "    int age;\n",
    "\n",
    "    printf(\"Enter your name and age: \");\n",
    "    //# Reads a name and an integer from keyboard input\n",
    "    scanf(\"%s %d\", name, &age);  \n",
    "    printf(\"Name: %s, Age: %d\\n\", name, age);\n",
    "    return 0;\n",
    "}"
   ]
  },
  {
   "cell_type": "markdown",
   "id": "a98fc11c",
   "metadata": {},
   "source": [
    "#### B. Parsing a String with `sscanf`"
   ]
  },
  {
   "cell_type": "code",
   "execution_count": 17,
   "id": "7bd0f72d",
   "metadata": {},
   "outputs": [
    {
     "name": "stdout",
     "output_type": "stream",
     "text": [
      "Overwriting parsing_strings_with_sscanf.c\n"
     ]
    }
   ],
   "source": [
    "%%file parsing_strings_with_sscanf.c\n",
    "#include <stdio.h>\n",
    "\n",
    "int main() {\n",
    "    char input[] = \"Alice 20\";  //# Input stored in a string\n",
    "    char name[20];\n",
    "    int age;\n",
    "\n",
    "    //# sscanf extracts data from the string instead of stdin\n",
    "    //# Use sscanf when the input is already in a string format\n",
    "    sscanf(input, \"%s %d\", name, &age);\n",
    "    printf(\"Name: %s, Age: %d\\n\", name, age);\n",
    "    return 0;\n",
    "}"
   ]
  },
  {
   "cell_type": "markdown",
   "id": "dff729bc",
   "metadata": {},
   "source": [
    "#### C. Comparing `scanf` and `sscanf`"
   ]
  },
  {
   "cell_type": "code",
   "execution_count": 19,
   "id": "1de2a70e",
   "metadata": {},
   "outputs": [
    {
     "name": "stdout",
     "output_type": "stream",
     "text": [
      "Writing scanf_vs_sscanf.c\n"
     ]
    }
   ],
   "source": [
    "%%file scanf_vs_sscanf.c\n",
    "#include <stdio.h>\n",
    "\n",
    "int main() {\n",
    "    char input_str[] = \"45 78\";\n",
    "    int num1, num2;\n",
    "    \n",
    "    //# Extract numbers from a string using sscanf\n",
    "    sscanf(input_str, \"%d %d\", &num1, &num2);\n",
    "    printf(\"Extracted from string: num1 = %d, num2 = %d\\n\", num1, num2);\n",
    "    \n",
    "    //# Read numbers from keyboard input using scanf\n",
    "    printf(\"Enter two numbers: \");\n",
    "    scanf(\"%d %d\", &num1, &num2);\n",
    "    printf(\"You entered: num1 = %d, num2 = %d\\n\", num1, num2);\n",
    "    \n",
    "    return 0;\n",
    "}"
   ]
  },
  {
   "cell_type": "markdown",
   "id": "02da588d",
   "metadata": {},
   "source": [
    "### 3. Output Functions: `printf` vs. `sprintf`\n",
    "\n",
    "#### A. Direct Output Using `printf`"
   ]
  },
  {
   "cell_type": "code",
   "execution_count": null,
   "id": "df3895ce",
   "metadata": {},
   "outputs": [
    {
     "name": "stdout",
     "output_type": "stream",
     "text": [
      "Writing direct_output_printf.c\n"
     ]
    }
   ],
   "source": [
    "%%file direct_output_printf.c\n",
    "#include <stdio.h>\n",
    "\n",
    "int main() {\n",
    "    char name[] = \"Alice\";\n",
    "    int age = 20;\n",
    "\n",
    "    //# Directly prints to the screen\n",
    "    printf(\"Name: %s, Age: %d\\n\", name, age);//# Direct output to stdout\n",
    "    return 0;\n",
    "}"
   ]
  },
  {
   "cell_type": "markdown",
   "id": "e8895c5a",
   "metadata": {},
   "source": [
    "#### B. Formatting a String with `sprintf`"
   ]
  },
  {
   "cell_type": "code",
   "execution_count": null,
   "id": "6941a06a",
   "metadata": {},
   "outputs": [
    {
     "name": "stdout",
     "output_type": "stream",
     "text": [
      "Writing format_string_sprintf.c\n"
     ]
    }
   ],
   "source": [
    "%%file format_string_sprintf.c\n",
    "#include <stdio.h>\n",
    "\n",
    "int main() {\n",
    "    char output[50];  //# Buffer to store the formatted string\n",
    "    char name[] = \"Alice\";\n",
    "    int age = 20;\n",
    "\n",
    "    //# Format the string and store it in the buffer\n",
    "    sprintf(output, \"Name: %s, Age: %d\", name, age);\n",
    "    printf(\"%s\\n\", output);\n",
    "    return 0;\n",
    "}"
   ]
  },
  {
   "cell_type": "markdown",
   "id": "bb53b698",
   "metadata": {},
   "source": [
    "#### C. Summary Example: printf vs. sprintf"
   ]
  },
  {
   "cell_type": "code",
   "execution_count": 25,
   "id": "0aa8353c",
   "metadata": {},
   "outputs": [
    {
     "name": "stdout",
     "output_type": "stream",
     "text": [
      "Writing example_printf_vs_sprintf.c\n"
     ]
    }
   ],
   "source": [
    "%%file example_printf_vs_sprintf.c\n",
    "#include <stdio.h>\n",
    "\n",
    "int main() {\n",
    "    int num = 10;\n",
    "    char buffer[50];\n",
    "\n",
    "    // Direct output using printf\n",
    "    printf(\"Using printf: Number: %d\\n\", num);\n",
    "\n",
    "    // Formatting into a string using sprintf\n",
    "    sprintf(buffer, \"Using sprintf: Number: %d\", num);\n",
    "    printf(\"%s\\n\", buffer);\n",
    "\n",
    "    return 0;\n",
    "}"
   ]
  },
  {
   "cell_type": "markdown",
   "id": "318741b7",
   "metadata": {},
   "source": [
    "### 4. Modifying and Copying Strings\n",
    "\n",
    "#### A. Changing Characters in a String"
   ]
  },
  {
   "cell_type": "code",
   "execution_count": 31,
   "id": "3840850f",
   "metadata": {},
   "outputs": [
    {
     "name": "stdout",
     "output_type": "stream",
     "text": [
      "Overwriting string_modifier.c\n"
     ]
    }
   ],
   "source": [
    "%%file string_modifier.c\n",
    "#include <stdio.h>\n",
    "\n",
    "int main() {\n",
    "    char city[] = \"Toronto\";  //# Original string\n",
    "\n",
    "    //# Loop through the first 7 characters of the string\n",
    "    for (int i = 0; i < 7; ++i) {\n",
    "        // Replace 'o' with 'a'\n",
    "        if (city[i] == 'o') {\n",
    "            city[i] = 'a';\n",
    "        }\n",
    "    }\n",
    "\n",
    "    printf(\"Modified city name: %s\\n\", city);\n",
    "    return 0;\n",
    "}"
   ]
  },
  {
   "cell_type": "markdown",
   "id": "ad3c6656",
   "metadata": {},
   "source": [
    "#### B. Copying Strings with `strncpy` and Getting String Length with `strlen`"
   ]
  },
  {
   "cell_type": "code",
   "execution_count": 33,
   "id": "c3c5165e",
   "metadata": {},
   "outputs": [
    {
     "name": "stdout",
     "output_type": "stream",
     "text": [
      "Writing copy_and_length.c\n"
     ]
    }
   ],
   "source": [
    "%%file copy_and_length.c\n",
    "#include <stdio.h>\n",
    "#include <string.h>\n",
    "\n",
    "int main() {\n",
    "    char island[10], country[10];\n",
    "\n",
    "    //# Copy \"Fiji\" into 'island'\n",
    "    strncpy(island, \"Fiji\", 10);\n",
    "    //# Copy the content of 'island' into 'country'\n",
    "    strncpy(country, island, 10);   \n",
    "\n",
    "    printf(\"Island: %s\\n\", island);\n",
    "    printf(\"Country: %s\\n\", country);\n",
    "\n",
    "    char city[30];\n",
    "    //# Copy \"St. John's\" into 'city'\n",
    "    strncpy(city, \"St. John's\", 30);\n",
    "    //# Print the length of the string in 'city' (excluding the null terminator)\n",
    "    printf(\"Length of city: %d\\n\", (int)strlen(city));\n",
    "\n",
    "    return 0;\n",
    "}\n"
   ]
  },
  {
   "cell_type": "markdown",
   "id": "9ca72eba",
   "metadata": {},
   "source": [
    "### 5. Arrays of Strings\n",
    "\n",
    "An array of strings in C is a two-dimensional character array; each row represents a single string."
   ]
  },
  {
   "cell_type": "code",
   "execution_count": 3,
   "id": "21695a6a",
   "metadata": {},
   "outputs": [
    {
     "name": "stdout",
     "output_type": "stream",
     "text": [
      "Overwriting fixed_2d_array.c\n"
     ]
    }
   ],
   "source": [
    "%%file fixed_2d_array.c\n",
    "#include <stdio.h>\n",
    "#include <string.h> // strcpy function belongs to this library\n",
    "\n",
    "int main() {\n",
    "    //# Can store 100 strings, each up to 14 characters (+1 for '\\0')\n",
    "    char list_cities[100][15];\n",
    "\n",
    "    //# An example initialization:\n",
    "    strcpy(list_cities[0], \"Toronto\");\n",
    "    strcpy(list_cities[1], \"Vancouver\");\n",
    "    printf(\"First city: %s\\n\", list_cities[0]);\n",
    "    return 0;\n",
    "}"
   ]
  },
  {
   "cell_type": "code",
   "execution_count": 7,
   "id": "8eba1ea1",
   "metadata": {},
   "outputs": [
    {
     "name": "stdout",
     "output_type": "stream",
     "text": [
      "Writing array_of_pointers.c\n"
     ]
    }
   ],
   "source": [
    "%%file array_of_pointers.c\n",
    "#include <stdio.h>\n",
    "\n",
    "int main() {\n",
    "    //# Initialize an array of string literals\n",
    "    char *words[] = { \"Apple\", \"Banana\", \"Cherry\" };\n",
    "\n",
    "    //# Print the second word (\"Banana\")\n",
    "    printf(\"%s\\n\", words[1]);\n",
    "\n",
    "    //# Print the 4th character of \"Cherry\" ('r')\n",
    "    printf(\"%c\\n\", words[2][3]);\n",
    "\n",
    "    return 0;\n",
    "}\n"
   ]
  },
  {
   "cell_type": "markdown",
   "id": "5747a42e",
   "metadata": {},
   "source": [
    "### 6. Tokenizing a CSV String\n",
    "\n",
    "Splitting a CSV (comma-separated values) string into individual tokens using `strtok`:"
   ]
  },
  {
   "cell_type": "code",
   "execution_count": 11,
   "id": "66675f61",
   "metadata": {},
   "outputs": [
    {
     "name": "stdout",
     "output_type": "stream",
     "text": [
      "Overwriting tokenizing_csv.c\n"
     ]
    }
   ],
   "source": [
    "%%file tokenizing_csv.c\n",
    "#include <stdio.h>\n",
    "#include <string.h>\n",
    "\n",
    "int main() {\n",
    "    char csv[] = \"John,25,Engineer,Toronto\";\n",
    "    //# Split the CSV string on commas\n",
    "    char *token = strtok(csv, \",\");\n",
    "\n",
    "    //# Loop through all tokens\n",
    "    while (token != NULL) {\n",
    "        printf(\"%s\\n\", token);\n",
    "        token = strtok(NULL, \",\");\n",
    "    }\n",
    "\n",
    "    return 0;\n",
    "}"
   ]
  },
  {
   "cell_type": "markdown",
   "id": "a3a37a7c",
   "metadata": {},
   "source": [
    "### 6. Converting Strings to Numbers\n",
    "\n",
    "#### A. Using `atoi` (ASCII to Integer)"
   ]
  },
  {
   "cell_type": "code",
   "execution_count": 17,
   "id": "e60eb5e1",
   "metadata": {},
   "outputs": [
    {
     "name": "stdout",
     "output_type": "stream",
     "text": [
      "Writing strings_to_int.c\n"
     ]
    }
   ],
   "source": [
    "%%file strings_to_int.c\n",
    "#include <stdio.h>\n",
    "#include <stdlib.h>\n",
    "\n",
    "int main() {\n",
    "    printf(\"%d\\n\", atoi(\"45.78\"));     //# Reads \"45\" and stops at '.'\n",
    "    printf(\"%d\\n\", atoi(\"235x56\"));    //# Reads \"235\" and stops at 'x'\n",
    "    printf(\"%d\\n\", atoi(\"@-7e45\"));     //# Invalid start character, returns 0\n",
    "    printf(\"%d\\n\", atoi(\"  -123abc\"));  //# Ignores leading spaces; returns -123\n",
    "    printf(\"%d\\n\", atoi(\"007\"));        //# Leading zeros are handled; returns 7\n",
    "    return 0;\n",
    "}"
   ]
  },
  {
   "cell_type": "markdown",
   "id": "03854410",
   "metadata": {},
   "source": [
    "#### B. Using `atof` (ASCII to Float)"
   ]
  },
  {
   "cell_type": "code",
   "execution_count": 23,
   "id": "8e8dc80d",
   "metadata": {},
   "outputs": [
    {
     "name": "stdout",
     "output_type": "stream",
     "text": [
      "Overwriting string_to_float.c\n"
     ]
    }
   ],
   "source": [
    "%%file string_to_float.c\n",
    "#include <stdio.h>\n",
    "#include <stdlib.h>\n",
    "\n",
    "int main() {\n",
    "    printf(\"%f\\n\", atof(\"42.57\"));      // 42.570000\n",
    "    printf(\"%f\\n\", atof(\"45.3e3\"));       // 45300.000000 (scientific notation)\n",
    "    printf(\"%f\\n\", atof(\"-5?.346\"));      // Stops at '?'; returns -5.000000\n",
    "    printf(\"%f\\n\", atof(\"hello\"));        // No valid number; returns 0.000000\n",
    "    printf(\"%f\\n\", atof(\"  -99.99abc\"));   // Returns -99.990000 after reading number\n",
    "    return 0;\n",
    "}"
   ]
  },
  {
   "cell_type": "markdown",
   "id": "d405b5a6",
   "metadata": {},
   "source": [
    "* `atoi` converts to an integer, stopping at the first non-digit.\n",
    "* `atof` converts a string to a floating-point number, handling decimals and scientific notation."
   ]
  },
  {
   "cell_type": "markdown",
   "id": "69d6bc02",
   "metadata": {},
   "source": [
    "### 8. Comparing Strings with `strncmp`\n",
    "\n",
    "Compare parts or whole strings safely by specifying the number of characters to compare.\n",
    "\n",
    "Example:"
   ]
  },
  {
   "cell_type": "code",
   "execution_count": null,
   "id": "af57dc6d",
   "metadata": {},
   "outputs": [
    {
     "name": "stdout",
     "output_type": "stream",
     "text": [
      "Writing compare_strings.c\n"
     ]
    }
   ],
   "source": [
    "%%file compare_strings.c\n",
    "#include <stdio.h>\n",
    "#include <string.h>\n",
    "\n",
    "int main() {\n",
    "    char str1[] = \"hello123\";\n",
    "    char str2[] = \"hello456\";\n",
    "\n",
    "    //# Compare first 5 characters (they are the same)\n",
    "    int result = strncmp(str1, str2, 5);\n",
    "    printf(\"Result (first 5 chars): %d\\n\", result);\n",
    "\n",
    "    //# Compare first 8 characters (difference starts at 6th character)\n",
    "    result = strncmp(str1, str2, 8);\n",
    "    printf(\"Result (first 8 chars): %d\\n\", result);\n",
    "\n",
    "    return 0;\n",
    "}"
   ]
  },
  {
   "cell_type": "markdown",
   "id": "b2c161d8",
   "metadata": {},
   "source": [
    "* **Return 0:** Strings are equal up to the given length.\n",
    "* **Return < 0 or > 0:** Indicates which string is lexicographically smaller or larger."
   ]
  },
  {
   "cell_type": "markdown",
   "id": "43a93a88",
   "metadata": {},
   "source": [
    "### 9. Character Input and Output Functions\n",
    "\n",
    "#### A. Reading Single Characters\n",
    "Using `getchar`: (Keyboard input)"
   ]
  },
  {
   "cell_type": "code",
   "execution_count": null,
   "id": "58edcb5f",
   "metadata": {},
   "outputs": [
    {
     "name": "stdout",
     "output_type": "stream",
     "text": [
      "Writing getchar.c\n"
     ]
    }
   ],
   "source": [
    "%%file getchar.c\n",
    "#include <stdio.h>\n",
    "\n",
    "int main() {\n",
    "    char ch;\n",
    "    printf(\"Enter a character: \");\n",
    "    ch = getchar();  //# Reads one character from standard input\n",
    "    printf(\"You entered: %c\\n\", ch);\n",
    "    return 0;\n",
    "}\n"
   ]
  },
  {
   "cell_type": "markdown",
   "id": "0aa71437",
   "metadata": {},
   "source": [
    "Using `getc`: (File input)"
   ]
  },
  {
   "cell_type": "code",
   "execution_count": 30,
   "id": "feda9a6f",
   "metadata": {},
   "outputs": [
    {
     "name": "stdout",
     "output_type": "stream",
     "text": [
      "Writing getc.c\n"
     ]
    }
   ],
   "source": [
    "%%file getc.c\n",
    "#include <stdio.h>\n",
    "\n",
    "int main() {\n",
    "    FILE *inp;\n",
    "    char ch;\n",
    "\n",
    "    //# Open a file for reading\n",
    "    inp = fopen(\"getc_tester.txt\", \"r\");\n",
    "    if (inp == NULL) {\n",
    "        perror(\"Error opening file\");\n",
    "        return 1;\n",
    "    }\n",
    "    \n",
    "    ch = getc(inp);  //# Reads a single character from the file\n",
    "    printf(\"Character from file: %c\\n\", ch);\n",
    "\n",
    "    fclose(inp);\n",
    "    return 0;\n",
    "}\n"
   ]
  },
  {
   "cell_type": "markdown",
   "id": "972c63c1",
   "metadata": {},
   "source": [
    "#### B. Writing Single Characters\n",
    "\n",
    "Using `putchar`:"
   ]
  },
  {
   "cell_type": "code",
   "execution_count": null,
   "id": "292985cd",
   "metadata": {},
   "outputs": [
    {
     "name": "stdout",
     "output_type": "stream",
     "text": [
      "Writing putchar.c\n"
     ]
    }
   ],
   "source": [
    "%%file putchar.c\n",
    "#include <stdio.h>\n",
    "\n",
    "int main() {\n",
    "    char c = 'C';\n",
    "    putchar('A');    //# Outputs 'A'\n",
    "    putchar(66);     //# Outputs 'B' (ASCII value 66)\n",
    "    putchar(c);      //# Outputs 'C'\n",
    "    putchar('\\n');   //# Outputs a newline\n",
    "    return 0;\n",
    "}"
   ]
  },
  {
   "cell_type": "markdown",
   "id": "1b56cec8",
   "metadata": {},
   "source": [
    "Using `putc`: (Writing to a file)"
   ]
  },
  {
   "cell_type": "code",
   "execution_count": 37,
   "id": "a2cca954",
   "metadata": {},
   "outputs": [
    {
     "name": "stdout",
     "output_type": "stream",
     "text": [
      "Overwriting putc.c\n"
     ]
    }
   ],
   "source": [
    "%%file putc.c\n",
    "#include <stdio.h>\n",
    "\n",
    "int main() {\n",
    "    FILE *output;\n",
    "\n",
    "    //# Open a file for writing\n",
    "    output = fopen(\"output.txt\", \"w\");//# If you have a file with the same name it will overwrite it\n",
    "    //# If the file doesn't exist, it will be created\n",
    "    if (output == NULL) {\n",
    "        printf(\"Error opening file.\\n\");\n",
    "        return 1;\n",
    "    }\n",
    "\n",
    "    putc('$', output);\n",
    "    putc(66, output);\n",
    "\n",
    "    fclose(output);\n",
    "    return 0;\n",
    "}\n"
   ]
  },
  {
   "cell_type": "markdown",
   "id": "14b62c35",
   "metadata": {},
   "source": [
    "### 10. The ctype.h Library\n",
    "\n",
    "The ctype.h library offers functions to classify characters and convert between cases (e.g., `isalpha()`, `isdigit()`, `toupper()`, `tolower()`).\n",
    "\n",
    "Example:"
   ]
  },
  {
   "cell_type": "code",
   "execution_count": 38,
   "id": "dca474f1",
   "metadata": {},
   "outputs": [
    {
     "name": "stdout",
     "output_type": "stream",
     "text": [
      "Writing ctype.c\n"
     ]
    }
   ],
   "source": [
    "%%file ctype.c\n",
    "#include <stdio.h>\n",
    "#include <ctype.h>\n",
    "\n",
    "int main() {\n",
    "    char ch = 'a';\n",
    "    if (isalpha(ch)) {\n",
    "        printf(\"%c is a letter.\\n\", ch);\n",
    "        printf(\"Uppercase: %c\\n\", toupper(ch));\n",
    "    }\n",
    "    return 0;\n",
    "}\n"
   ]
  },
  {
   "cell_type": "markdown",
   "id": "f67136b6",
   "metadata": {},
   "source": [
    "### 11. Structures, Union Types, and Binary Files\n",
    "Structures allow you to group variables into a single type.\n",
    "#### A. Defining and Using Structures\n",
    "Basic Structure Example:"
   ]
  },
  {
   "cell_type": "code",
   "execution_count": null,
   "id": "6074dbfc",
   "metadata": {},
   "outputs": [
    {
     "name": "stdout",
     "output_type": "stream",
     "text": [
      "Writing basic_structure.c\n"
     ]
    }
   ],
   "source": [
    "%%file basic_structure.c\n",
    "#include <stdio.h>\n",
    "#include <string.h> //# For strcpy()\n",
    "\n",
    "struct element {\n",
    "    char name[14];       //# Element name\n",
    "    char symbol[3];      //# Element symbol\n",
    "    double atomic_mass;  //# Atomic mass\n",
    "    int atomic_number;   //# Atomic number\n",
    "};\n",
    "\n",
    "int main() {\n",
    "    //# Initialize a structure variable for Hydrogen\n",
    "    struct element hydrogen = { \"Hydrogen\", \"H\", 1.008, 1 };\n",
    "    struct element oxygen;\n",
    "    \n",
    "    //# Assign values to oxygen\n",
    "    strcpy(oxygen.name, \"Oxygen\");\n",
    "    strcpy(oxygen.symbol, \"O\");\n",
    "    oxygen.atomic_mass = 15.999;\n",
    "    oxygen.atomic_number = 8;\n",
    "\n",
    "    //# Display element details\n",
    "    printf(\"Element: %s\\n\", hydrogen.name);\n",
    "    printf(\"Symbol: %s\\n\", hydrogen.symbol);\n",
    "    printf(\"Atomic Mass: %.3f\\n\", hydrogen.atomic_mass);\n",
    "    printf(\"Atomic Number: %d\\n\", hydrogen.atomic_number);\n",
    "    printf(\"\\nElement: %s\\n\", oxygen.name);\n",
    "    printf(\"Symbol: %s\\n\", oxygen.symbol);\n",
    "    printf(\"Atomic Mass: %.3f\\n\", oxygen.atomic_mass);\n",
    "    printf(\"Atomic Number: %d\\n\", oxygen.atomic_number);\n",
    "\n",
    "    return 0;\n",
    "    //# Use the dot operator (.) to access a structure’s members. It is exactly the same as OOP that you will be learning later.\n",
    "}"
   ]
  },
  {
   "cell_type": "markdown",
   "id": "0303f65a",
   "metadata": {},
   "source": [
    "#### B. Using Typedef with Structures\n",
    "`typedef` simplifies structure declarations:"
   ]
  },
  {
   "cell_type": "code",
   "execution_count": 42,
   "id": "bc1ce977",
   "metadata": {},
   "outputs": [
    {
     "name": "stdout",
     "output_type": "stream",
     "text": [
      "Writing typedef_struct.c\n"
     ]
    }
   ],
   "source": [
    "%%file typedef_struct.c\n",
    "#include <stdio.h>\n",
    "#include <string.h> // For strncpy()\n",
    "\n",
    "typedef struct element {\n",
    "    char name[14];\n",
    "    char symbol[3];\n",
    "    double atomic_mass;\n",
    "    int atomic_number;\n",
    "} ele;\n",
    "\n",
    "int main() {\n",
    "    // Declare and initialize structure variables without the need for \"struct\"\n",
    "    ele e1 = {\"Hydrogen\", \"H\", 1.00794, 1};\n",
    "    ele e2;\n",
    "\n",
    "    // Fill values for e2 (example: Helium)\n",
    "    strncpy(e2.name, \"Helium\", 14);\n",
    "    strncpy(e2.symbol, \"He\", 3);\n",
    "    e2.atomic_number = 2;\n",
    "    e2.atomic_mass = 4.002602;\n",
    "\n",
    "    // Display elements\n",
    "    printf(\"Element: %s, Symbol: %s, Atomic Number: %d, Atomic Mass: %.5f\\n\",\n",
    "           e1.name, e1.symbol, e1.atomic_number, e1.atomic_mass);\n",
    "    printf(\"Element: %s, Symbol: %s, Atomic Number: %d, Atomic Mass: %.5f\\n\",\n",
    "           e2.name, e2.symbol, e2.atomic_number, e2.atomic_mass);\n",
    "\n",
    "    return 0;\n",
    "}"
   ]
  },
  {
   "cell_type": "markdown",
   "id": "e241740c",
   "metadata": {},
   "source": [
    "#### C. Structures with Input and File I/O\n",
    "Reading Data into a Structure:"
   ]
  },
  {
   "cell_type": "code",
   "execution_count": null,
   "id": "126edd37",
   "metadata": {},
   "outputs": [
    {
     "name": "stdout",
     "output_type": "stream",
     "text": [
      "Writing data_to_structure.c\n"
     ]
    }
   ],
   "source": [
    "%%file data_to_structure.c\n",
    "#include <stdio.h>\n",
    "#include <string.h>\n",
    "\n",
    "typedef struct element {\n",
    "    char name[14];\n",
    "    char symbol[3];\n",
    "    double atomic_mass;\n",
    "    int atomic_number;\n",
    "} ele;\n",
    "\n",
    "//# Function to read an element's data from the user\n",
    "ele read_element(void) {\n",
    "    ele e;\n",
    "    printf(\"Enter the name, symbol, atomic mass and atomic number (separated by spaces): \");\n",
    "    scanf(\"%s %s %lf %d\", e.name, e.symbol, &e.atomic_mass, &e.atomic_number);\n",
    "    return e;\n",
    "}\n",
    "\n",
    "int main() {\n",
    "    ele e2;\n",
    "\n",
    "    //# Read element data from user\n",
    "    e2 = read_element();\n",
    "\n",
    "    //# Display the input element details\n",
    "    printf(\"\\nYou entered the following element:\\n\");\n",
    "    printf(\"Name: %s\\n\", e2.name);\n",
    "    printf(\"Symbol: %s\\n\", e2.symbol);\n",
    "    printf(\"Atomic Mass: %.2lf\\n\", e2.atomic_mass);\n",
    "    printf(\"Atomic Number: %d\\n\", e2.atomic_number);\n",
    "\n",
    "    //# For demonstration: reading element data from a file \"elements.txt\" (if exists)\n",
    "    FILE *in = fopen(\"elements.txt\", \"r\");\n",
    "    if (in != NULL) {\n",
    "        ele e3;\n",
    "        fscanf(in, \"%s\", e3.symbol);\n",
    "        fgets(e3.name, sizeof(e3.name), in);  //# Read a line (can include spaces)\n",
    "        fscanf(in, \"%lf\", &e3.atomic_mass);\n",
    "        fscanf(in, \"%d\", &e3.atomic_number);\n",
    "        fclose(in);\n",
    "\n",
    "        printf(\"\\nElement read from file:\\n\");\n",
    "        printf(\"Name: %s\\n\", e3.name);\n",
    "        printf(\"Symbol: %s\\n\", e3.symbol);\n",
    "        printf(\"Atomic Mass: %.5lf\\n\", e3.atomic_mass);\n",
    "        printf(\"Atomic Number: %d\\n\", e3.atomic_number);\n",
    "    } else {\n",
    "        printf(\"\\nError opening file for reading.\\n\");\n",
    "    }\n",
    "\n",
    "    return 0;\n",
    "}\n"
   ]
  },
  {
   "cell_type": "code",
   "execution_count": 45,
   "id": "b28dbc8e",
   "metadata": {},
   "outputs": [],
   "source": [
    "%%bash\n",
    "# Compile the C code\n",
    "gcc -o data_to_structure data_to_structure.c"
   ]
  },
  {
   "cell_type": "code",
   "execution_count": null,
   "id": "4f4446cd",
   "metadata": {},
   "outputs": [],
   "source": []
  }
 ],
 "metadata": {
  "kernelspec": {
   "display_name": "base",
   "language": "python",
   "name": "python3"
  },
  "language_info": {
   "codemirror_mode": {
    "name": "ipython",
    "version": 3
   },
   "file_extension": ".py",
   "mimetype": "text/x-python",
   "name": "python",
   "nbconvert_exporter": "python",
   "pygments_lexer": "ipython3",
   "version": "3.12.3"
  }
 },
 "nbformat": 4,
 "nbformat_minor": 5
}
