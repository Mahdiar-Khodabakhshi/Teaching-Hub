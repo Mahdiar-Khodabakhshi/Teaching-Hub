{
 "cells": [
  {
   "cell_type": "markdown",
   "id": "2510180e",
   "metadata": {},
   "source": [
    "### 1. Reading Input: `scanf` vs. `fgets`\n",
    "\n",
    "In C, the `%s` placeholder is used to read and print strings. Note that when using `scanf` with an array, you do not need the address operator (`&`) because the array name already points to the first element.\n",
    "\n",
    "#### A. Using `scanf` and `fgets` from Standard Input\n"
   ]
  },
  {
   "cell_type": "code",
   "execution_count": null,
   "id": "6473a308",
   "metadata": {},
   "outputs": [
    {
     "name": "stdout",
     "output_type": "stream",
     "text": [
      "Overwriting scanf_vs_fgets.c\n"
     ]
    }
   ],
   "source": [
    "%%file scanf_vs_fgets.c\n",
    "#include <stdio.h>\n",
    "\n",
    "int main() {\n",
    "    char island[100];  //# Buffer to hold input\n",
    "\n",
    "    //# Using scanf to read a string (stops at whitespace)\n",
    "    printf(\"Enter the island name (scanf reads only until whitespace): \");\n",
    "    scanf(\"%s\", island);  \n",
    "    //# island is used without '&' because it is already a pointer to the first element.\n",
    "    printf(\"Using scanf, you entered: %s\\n\", island);\n",
    "\n",
    "    //# Clear input buffer before using fgets\n",
    "    while (getchar() != '\\n'); \n",
    "\n",
    "    //# Using fgets to read a full line including spaces\n",
    "    printf(\"Enter the island name again (fgets reads entire line): \");\n",
    "    fgets(island, 100, stdin);\n",
    "    //# Note: fgets keeps the newline character if there's room\n",
    "    printf(\"Using fgets, you entered: %s\", island);\n",
    "\n",
    "    return 0;\n",
    "}"
   ]
  },
  {
   "cell_type": "markdown",
   "id": "fd805f55",
   "metadata": {},
   "source": [
    "#### B. Reading from a File `fscanf` and `fgets`"
   ]
  },
  {
   "cell_type": "code",
   "execution_count": 9,
   "id": "2c9d8d7e",
   "metadata": {},
   "outputs": [
    {
     "name": "stdout",
     "output_type": "stream",
     "text": [
      "Overwriting fscanf_vs_fgets.c\n"
     ]
    }
   ],
   "source": [
    "%%file fscanf_vs_fgets.c\n",
    "#include <stdio.h>\n",
    "\n",
    "int main() {\n",
    "    FILE *in; //# File pointer for input\n",
    "    char island[100];\n",
    "\n",
    "    //# Open a file\n",
    "    in = fopen(\"fscanf_vs_fgets_test.txt\", \"r\");\n",
    "    if (in == NULL) {\n",
    "        perror(\"Error opening file\");\n",
    "        return 1;\n",
    "    }\n",
    "\n",
    "    //# Using fscanf to read a string from the file\n",
    "    fscanf(in, \"%s\", island);\n",
    "    printf(\"Using fscanf, read from file: %s\\n\", island);\n",
    "\n",
    "    //# Reset file pointer and use fgets to read the whole line from file\n",
    "    rewind(in);\n",
    "    fgets(island, 100, in);\n",
    "    printf(\"Using fgets, read from file: %s\", island);\n",
    "\n",
    "    fclose(in);\n",
    "    return 0;\n",
    "}"
   ]
  },
  {
   "cell_type": "markdown",
   "id": "045394b4",
   "metadata": {},
   "source": [
    "### 2. Parsing Strings with `scanf` and `sscanf`\n",
    "\n",
    "#### A. Reading from Standard Input with `scanf`"
   ]
  },
  {
   "cell_type": "code",
   "execution_count": 13,
   "id": "58cd95d2",
   "metadata": {},
   "outputs": [
    {
     "name": "stdout",
     "output_type": "stream",
     "text": [
      "Overwriting parsing_strings_with_scanf.c\n"
     ]
    }
   ],
   "source": [
    "%%file parsing_strings_with_scanf.c\n",
    "#include <stdio.h>\n",
    "\n",
    "int main() {\n",
    "    char name[20];\n",
    "    int age;\n",
    "\n",
    "    printf(\"Enter your name and age: \");\n",
    "    //# Reads a name and an integer from keyboard input\n",
    "    scanf(\"%s %d\", name, &age);  \n",
    "    printf(\"Name: %s, Age: %d\\n\", name, age);\n",
    "    return 0;\n",
    "}"
   ]
  },
  {
   "cell_type": "markdown",
   "id": "a98fc11c",
   "metadata": {},
   "source": [
    "#### B. Parsing a String with `sscanf`"
   ]
  },
  {
   "cell_type": "code",
   "execution_count": 17,
   "id": "7bd0f72d",
   "metadata": {},
   "outputs": [
    {
     "name": "stdout",
     "output_type": "stream",
     "text": [
      "Overwriting parsing_strings_with_sscanf.c\n"
     ]
    }
   ],
   "source": [
    "%%file parsing_strings_with_sscanf.c\n",
    "#include <stdio.h>\n",
    "\n",
    "int main() {\n",
    "    char input[] = \"Alice 20\";  //# Input stored in a string\n",
    "    char name[20];\n",
    "    int age;\n",
    "\n",
    "    //# sscanf extracts data from the string instead of stdin\n",
    "    //# Use sscanf when the input is already in a string format\n",
    "    sscanf(input, \"%s %d\", name, &age);\n",
    "    printf(\"Name: %s, Age: %d\\n\", name, age);\n",
    "    return 0;\n",
    "}"
   ]
  },
  {
   "cell_type": "markdown",
   "id": "dff729bc",
   "metadata": {},
   "source": [
    "#### C. Comparing `scanf` and `sscanf`"
   ]
  },
  {
   "cell_type": "code",
   "execution_count": 19,
   "id": "1de2a70e",
   "metadata": {},
   "outputs": [
    {
     "name": "stdout",
     "output_type": "stream",
     "text": [
      "Writing scanf_vs_sscanf.c\n"
     ]
    }
   ],
   "source": [
    "%%file scanf_vs_sscanf.c\n",
    "#include <stdio.h>\n",
    "\n",
    "int main() {\n",
    "    char input_str[] = \"45 78\";\n",
    "    int num1, num2;\n",
    "    \n",
    "    //# Extract numbers from a string using sscanf\n",
    "    sscanf(input_str, \"%d %d\", &num1, &num2);\n",
    "    printf(\"Extracted from string: num1 = %d, num2 = %d\\n\", num1, num2);\n",
    "    \n",
    "    //# Read numbers from keyboard input using scanf\n",
    "    printf(\"Enter two numbers: \");\n",
    "    scanf(\"%d %d\", &num1, &num2);\n",
    "    printf(\"You entered: num1 = %d, num2 = %d\\n\", num1, num2);\n",
    "    \n",
    "    return 0;\n",
    "}"
   ]
  },
  {
   "cell_type": "markdown",
   "id": "02da588d",
   "metadata": {},
   "source": [
    "### 3. Output Functions: `printf` vs. `sprintf`\n",
    "\n",
    "#### A. Direct Output Using `printf`"
   ]
  },
  {
   "cell_type": "code",
   "execution_count": null,
   "id": "df3895ce",
   "metadata": {},
   "outputs": [
    {
     "name": "stdout",
     "output_type": "stream",
     "text": [
      "Writing direct_output_printf.c\n"
     ]
    }
   ],
   "source": [
    "%%file direct_output_printf.c\n",
    "#include <stdio.h>\n",
    "\n",
    "int main() {\n",
    "    char name[] = \"Alice\";\n",
    "    int age = 20;\n",
    "\n",
    "    //# Directly prints to the screen\n",
    "    printf(\"Name: %s, Age: %d\\n\", name, age);//# Direct output to stdout\n",
    "    return 0;\n",
    "}"
   ]
  },
  {
   "cell_type": "markdown",
   "id": "e8895c5a",
   "metadata": {},
   "source": [
    "#### B. Formatting a String with `sprintf`"
   ]
  },
  {
   "cell_type": "code",
   "execution_count": null,
   "id": "6941a06a",
   "metadata": {},
   "outputs": [
    {
     "name": "stdout",
     "output_type": "stream",
     "text": [
      "Writing format_string_sprintf.c\n"
     ]
    }
   ],
   "source": [
    "%%file format_string_sprintf.c\n",
    "#include <stdio.h>\n",
    "\n",
    "int main() {\n",
    "    char output[50];  //# Buffer to store the formatted string\n",
    "    char name[] = \"Alice\";\n",
    "    int age = 20;\n",
    "\n",
    "    //# Format the string and store it in the buffer\n",
    "    sprintf(output, \"Name: %s, Age: %d\", name, age);\n",
    "    printf(\"%s\\n\", output);\n",
    "    return 0;\n",
    "}"
   ]
  },
  {
   "cell_type": "markdown",
   "id": "bb53b698",
   "metadata": {},
   "source": [
    "#### C. Summary Example: printf vs. sprintf"
   ]
  },
  {
   "cell_type": "code",
   "execution_count": 25,
   "id": "0aa8353c",
   "metadata": {},
   "outputs": [
    {
     "name": "stdout",
     "output_type": "stream",
     "text": [
      "Writing example_printf_vs_sprintf.c\n"
     ]
    }
   ],
   "source": [
    "%%file example_printf_vs_sprintf.c\n",
    "#include <stdio.h>\n",
    "\n",
    "int main() {\n",
    "    int num = 10;\n",
    "    char buffer[50];\n",
    "\n",
    "    // Direct output using printf\n",
    "    printf(\"Using printf: Number: %d\\n\", num);\n",
    "\n",
    "    // Formatting into a string using sprintf\n",
    "    sprintf(buffer, \"Using sprintf: Number: %d\", num);\n",
    "    printf(\"%s\\n\", buffer);\n",
    "\n",
    "    return 0;\n",
    "}"
   ]
  },
  {
   "cell_type": "markdown",
   "id": "318741b7",
   "metadata": {},
   "source": [
    "### 4. Modifying and Copying Strings\n",
    "\n",
    "#### A. Changing Characters in a String"
   ]
  },
  {
   "cell_type": "code",
   "execution_count": 31,
   "id": "3840850f",
   "metadata": {},
   "outputs": [
    {
     "name": "stdout",
     "output_type": "stream",
     "text": [
      "Overwriting string_modifier.c\n"
     ]
    }
   ],
   "source": [
    "%%file string_modifier.c\n",
    "#include <stdio.h>\n",
    "\n",
    "int main() {\n",
    "    char city[] = \"Toronto\";  //# Original string\n",
    "\n",
    "    //# Loop through the first 7 characters of the string\n",
    "    for (int i = 0; i < 7; ++i) {\n",
    "        // Replace 'o' with 'a'\n",
    "        if (city[i] == 'o') {\n",
    "            city[i] = 'a';\n",
    "        }\n",
    "    }\n",
    "\n",
    "    printf(\"Modified city name: %s\\n\", city);\n",
    "    return 0;\n",
    "}"
   ]
  },
  {
   "cell_type": "markdown",
   "id": "ad3c6656",
   "metadata": {},
   "source": [
    "#### B. Copying Strings with `strncpy` and Getting String Length with `strlen`"
   ]
  },
  {
   "cell_type": "code",
   "execution_count": 33,
   "id": "c3c5165e",
   "metadata": {},
   "outputs": [
    {
     "name": "stdout",
     "output_type": "stream",
     "text": [
      "Writing copy_and_length.c\n"
     ]
    }
   ],
   "source": [
    "%%file copy_and_length.c\n",
    "#include <stdio.h>\n",
    "#include <string.h>\n",
    "\n",
    "int main() {\n",
    "    char island[10], country[10];\n",
    "\n",
    "    //# Copy \"Fiji\" into 'island'\n",
    "    strncpy(island, \"Fiji\", 10);\n",
    "    //# Copy the content of 'island' into 'country'\n",
    "    strncpy(country, island, 10);   \n",
    "\n",
    "    printf(\"Island: %s\\n\", island);\n",
    "    printf(\"Country: %s\\n\", country);\n",
    "\n",
    "    char city[30];\n",
    "    //# Copy \"St. John's\" into 'city'\n",
    "    strncpy(city, \"St. John's\", 30);\n",
    "    //# Print the length of the string in 'city' (excluding the null terminator)\n",
    "    printf(\"Length of city: %d\\n\", (int)strlen(city));\n",
    "\n",
    "    return 0;\n",
    "}\n"
   ]
  },
  {
   "cell_type": "code",
   "execution_count": 34,
   "id": "b28dbc8e",
   "metadata": {},
   "outputs": [],
   "source": [
    "%%bash\n",
    "# Compile the C code\n",
    "gcc -o copy_and_length copy_and_length.c"
   ]
  },
  {
   "cell_type": "code",
   "execution_count": null,
   "id": "4f4446cd",
   "metadata": {},
   "outputs": [],
   "source": []
  }
 ],
 "metadata": {
  "kernelspec": {
   "display_name": "base",
   "language": "python",
   "name": "python3"
  },
  "language_info": {
   "codemirror_mode": {
    "name": "ipython",
    "version": 3
   },
   "file_extension": ".py",
   "mimetype": "text/x-python",
   "name": "python",
   "nbconvert_exporter": "python",
   "pygments_lexer": "ipython3",
   "version": "3.12.3"
  }
 },
 "nbformat": 4,
 "nbformat_minor": 5
}
